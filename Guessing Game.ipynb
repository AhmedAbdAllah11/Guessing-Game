{
 "cells": [
  {
   "cell_type": "code",
   "execution_count": 16,
   "metadata": {},
   "outputs": [
    {
     "name": "stdout",
     "output_type": "stream",
     "text": [
      "Please choose a number between 1 and 100 \n",
      "20\n",
      "Try another number \n",
      "\n",
      "20\n",
      "try again \n",
      "25\n",
      "you are farther\n",
      "try again \n",
      "15\n",
      "you are closer\n",
      "try again \n",
      "10\n",
      "you are farther\n",
      "try again \n",
      "12\n",
      "you are closer\n",
      "try again \n",
      "21\n",
      "you are closer\n",
      "try again \n",
      "22\n",
      "you are farther\n",
      "try again \n",
      "19\n",
      "you are closer\n",
      "try again \n",
      "17\n",
      "It is the same distance\n",
      "try again \n",
      "18\n",
      "you are closer\n",
      "Well done It is correct\n"
     ]
    }
   ],
   "source": [
    "import random\n",
    "actual = random.randint(1,101)\n",
    "predicion = int(input('Please choose a number between 1 and 100 \\n'))\n",
    "if (actual==predicion):\n",
    "    print('WOW you are right')\n",
    "else:\n",
    "    print('Try another number \\n')\n",
    "print(predicion)\n",
    "counter =0\n",
    "while(counter<11 and actual!=predicion):\n",
    "    if(predicion>100 or predicion<1 or actual== predicion):\n",
    "        break\n",
    "    diff = abs(actual-predicion)\n",
    "    predicion=int(input('try again \\n'))\n",
    "    new_diff = abs(actual-predicion)\n",
    "    if(diff<new_diff):\n",
    "        print('you are farther')\n",
    "    elif(diff>new_diff):\n",
    "        print('you are closer')\n",
    "    else:\n",
    "        print('It is the same distance')\n",
    "    counter = counter + 1\n",
    "if(actual==predicion):\n",
    "    print('Well done It is correct')\n",
    "elif(predicion>100 or predicion<1):\n",
    "    print('Out of boundry')\n",
    "else:\n",
    "    print('Time out, try in the next time')\n",
    "    "
   ]
  }
 ],
 "metadata": {
  "kernelspec": {
   "display_name": "Python 3",
   "language": "python",
   "name": "python3"
  },
  "language_info": {
   "codemirror_mode": {
    "name": "ipython",
    "version": 3
   },
   "file_extension": ".py",
   "mimetype": "text/x-python",
   "name": "python",
   "nbconvert_exporter": "python",
   "pygments_lexer": "ipython3",
   "version": "3.7.4"
  }
 },
 "nbformat": 4,
 "nbformat_minor": 2
}
